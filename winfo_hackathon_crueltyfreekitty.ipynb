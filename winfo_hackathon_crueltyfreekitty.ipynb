{
 "cells": [
  {
   "cell_type": "markdown",
   "metadata": {},
   "source": [
    "### Scrape Data from Website\n",
    "\n",
    "This script goes to the recipe page of the Trader Joe's website, scrapes a given number of recipes (or until all recipes have been scraped), and organizes the ingredients with their respective recipe name and recipe URL."
   ]
  },
  {
   "cell_type": "code",
   "execution_count": 1,
   "metadata": {},
   "outputs": [],
   "source": [
    "import requests \n",
    "from bs4 import BeautifulSoup\n",
    "import csv"
   ]
  },
  {
   "cell_type": "code",
   "execution_count": 2,
   "metadata": {},
   "outputs": [],
   "source": [
    "BASE_URL = \"https://www.crueltyfreekitty.com/list-of-cruelty-free-brands/\""
   ]
  },
  {
   "cell_type": "markdown",
   "metadata": {},
   "source": [
    "@param base_url : the base URL of the Trader Joe's website <br> \n",
    "@param num_recipes : the number of recipes to scrape <br>\n",
    "This is the main method that calls the necessary functions to scrape the Trader Joe's website recipes"
   ]
  },
  {
   "cell_type": "code",
   "execution_count": 9,
   "metadata": {},
   "outputs": [],
   "source": [
    "def raw_main():\n",
    "    main_r = requests.get(BASE_URL)\n",
    "    main_soup = BeautifulSoup(main_r.text, 'html.parser')\n",
    "    brand_info = main_soup.find_all('tr')\n",
    "    brand_names = []\n",
    "    for brand in brand_info:\n",
    "        try:\n",
    "            name = brand.find('a').text\n",
    "\n",
    "            brand_names.append([name.replace(' ', '-').lower(), name])\n",
    "        except:\n",
    "            print()\n",
    "        \n",
    "        col_names = ['url_friendly_name', 'brand_name']\n",
    "        write_to_csv('cruelty_free_brands', col_names, brand_names)"
   ]
  },
  {
   "cell_type": "code",
   "execution_count": 12,
   "metadata": {},
   "outputs": [],
   "source": [
    "def write_to_csv(file_name, col_names, values):\n",
    "    name = file_name + '.csv'\n",
    "    file=open(name,'w')\n",
    "    writer=csv.writer(file)\n",
    "    writer.writerow(col_names)\n",
    "    for row in values:\n",
    "        writer.writerow(row)\n",
    "    file.close()"
   ]
  },
  {
   "cell_type": "code",
   "execution_count": 13,
   "metadata": {},
   "outputs": [
    {
     "name": "stdout",
     "output_type": "stream",
     "text": [
      "\n"
     ]
    }
   ],
   "source": [
    "raw_main()"
   ]
  },
  {
   "cell_type": "code",
   "execution_count": null,
   "metadata": {},
   "outputs": [],
   "source": []
  }
 ],
 "metadata": {
  "kernelspec": {
   "display_name": "Python 3",
   "language": "python",
   "name": "python3"
  },
  "language_info": {
   "codemirror_mode": {
    "name": "ipython",
    "version": 3
   },
   "file_extension": ".py",
   "mimetype": "text/x-python",
   "name": "python",
   "nbconvert_exporter": "python",
   "pygments_lexer": "ipython3",
   "version": "3.7.0"
  }
 },
 "nbformat": 4,
 "nbformat_minor": 2
}
